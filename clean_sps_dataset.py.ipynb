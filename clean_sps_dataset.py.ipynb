{
 "cells": [
  {
   "cell_type": "code",
   "execution_count": 1,
   "metadata": {},
   "outputs": [],
   "source": [
    "from bs4 import BeautifulSoup\n",
    "import pandas as pd\n",
    "import xlrd, xlwt\n",
    "import csv\n",
    "input_folder_path = r\"C:\\Users\\AZSG0071-Victor Lee\\Azendian Solutions Pte Ltd\\Proposals - SG Proposals\\SPS_Business Analytics System\\Presentation_Demo\\Working Folder\\Step_0_Original_Dataset\"\n",
    "output_folder_path = r\"C:\\Users\\AZSG0071-Victor Lee\\Azendian Solutions Pte Ltd\\Proposals - SG Proposals\\SPS_Business Analytics System\\Presentation_Demo\\Working Folder\\Step_1_Clean&UpscramblingDataset\""
   ]
  },
  {
   "cell_type": "code",
   "execution_count": 2,
   "metadata": {},
   "outputs": [
    {
     "name": "stdout",
     "output_type": "stream",
     "text": [
      "honey123badger456&\n"
     ]
    }
   ],
   "source": [
    "# function to remove all punctuation marks\n",
    "def remove_punctuation(input_text):\n",
    "    # https://stackoverflow.com/questions/10017147/removing-a-list-of-characters-in-string\n",
    "    output_text = input_text.translate(str.maketrans('','',\",.?!-:;<>[](){}~=''\"))\n",
    "    return output_text\n",
    "\n",
    "# test\n",
    "print(remove_punctuation(\"honey123!.;,-?!(){}[]:<>~badger456!&\"))"
   ]
  },
  {
   "cell_type": "code",
   "execution_count": 3,
   "metadata": {},
   "outputs": [
    {
     "name": "stdout",
     "output_type": "stream",
     "text": [
      "abcdef\n"
     ]
    }
   ],
   "source": [
    "# function to ake all text lowercase\n",
    "def make_lowercase(input_text):\n",
    "    output_text = input_text.lower()\n",
    "    return output_text\n",
    "\n",
    "# test\n",
    "print(make_lowercase(\"ABCdef\"))"
   ]
  },
  {
   "cell_type": "code",
   "execution_count": 4,
   "metadata": {},
   "outputs": [],
   "source": [
    "def remove_html_tags(input_file_name, output_file_name, input_folder_path, output_folder_path, num_cols_avail):\n",
    "    training_file = xlrd.open_workbook(input_folder_path+\"\\\\\"+input_file_name)\n",
    "    training_file_worksheet = training_file.sheet_by_index(0)\n",
    "    output_workbook = xlwt.Workbook()\n",
    "    sheet = output_workbook.add_sheet(output_file_name.split('.')[0])\n",
    "    for row in range(0, training_file_worksheet.nrows):\n",
    "        letter_id = training_file_worksheet.cell_value(row, 0)\n",
    "        letter_content = training_file_worksheet.cell_value(row, 1)\n",
    "        if num_cols_avail > 2:\n",
    "            letter_status = training_file_worksheet.cell_value(row, 2)\n",
    "        letter_content_html = BeautifulSoup(letter_content, 'html.parser')\n",
    "        #letter_content_text = letter_content_html.get_text()\n",
    "        #https://stackoverflow.com/questions/31140143/how-to-add-space-around-removed-tags-in-beautifulsoup?rq=1\n",
    "        letter_content_text = \" \".join(item.strip() for item in letter_content_html.find_all(text=True))\n",
    "        letter_content_text = make_lowercase(remove_punctuation(letter_content_text))\n",
    "        sheet.write(row, 0, letter_id)\n",
    "        sheet.write(row, 1, letter_content)\n",
    "        sheet.write(row, 2, letter_content_text)\n",
    "        if num_cols_avail > 2:\n",
    "            sheet.write(row, 3, letter_status)\n",
    "    output_workbook.save(output_folder_path+\"\\\\\"+output_file_name)"
   ]
  },
  {
   "cell_type": "code",
   "execution_count": 5,
   "metadata": {},
   "outputs": [],
   "source": [
    "# remove html tags in training\n",
    "input_file_name = \"Training.xlsx\"\n",
    "output_file_name = \"training_cleaned.xls\"\n",
    "remove_html_tags(input_file_name, output_file_name, input_folder_path, output_folder_path, 3)"
   ]
  },
  {
   "cell_type": "code",
   "execution_count": 6,
   "metadata": {},
   "outputs": [],
   "source": [
    "# remove html tags in testing\n",
    "input_file_name = \"Test.xlsx\"\n",
    "output_file_name = \"test_cleaned.xls\"\n",
    "remove_html_tags(input_file_name, output_file_name, input_folder_path, output_folder_path, 2)"
   ]
  },
  {
   "cell_type": "code",
   "execution_count": null,
   "metadata": {},
   "outputs": [],
   "source": []
  }
 ],
 "metadata": {
  "kernelspec": {
   "display_name": "Python 3",
   "language": "python",
   "name": "python3"
  },
  "language_info": {
   "codemirror_mode": {
    "name": "ipython",
    "version": 3
   },
   "file_extension": ".py",
   "mimetype": "text/x-python",
   "name": "python",
   "nbconvert_exporter": "python",
   "pygments_lexer": "ipython3",
   "version": "3.6.5"
  }
 },
 "nbformat": 4,
 "nbformat_minor": 2
}
